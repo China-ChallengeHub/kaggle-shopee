{
  "nbformat": 4,
  "nbformat_minor": 0,
  "metadata": {
    "colab": {
      "name": "001_create_tfrecode.ipynb",
      "provenance": [],
      "collapsed_sections": [],
      "toc_visible": true,
      "mount_file_id": "1clI9Wv1DkC8_ySd3MkZ-JMqbEIg5JSGE",
      "authorship_tag": "ABX9TyP/lbddf5jRK4cqXEDAtr5y",
      "include_colab_link": true
    },
    "kernelspec": {
      "name": "python3",
      "display_name": "Python 3"
    },
    "language_info": {
      "name": "python"
    },
    "accelerator": "GPU"
  },
  "cells": [
    {
      "cell_type": "markdown",
      "metadata": {
        "id": "view-in-github",
        "colab_type": "text"
      },
      "source": [
        "<a href=\"https://colab.research.google.com/github/SS1031/kaggle-shopee/blob/main/notebooks/001_create_tfrecode.ipynb\" target=\"_parent\"><img src=\"https://colab.research.google.com/assets/colab-badge.svg\" alt=\"Open In Colab\"/></a>"
      ]
    },
    {
      "cell_type": "code",
      "metadata": {
        "colab": {
          "base_uri": "https://localhost:8080/"
        },
        "id": "uAfewvwhPFyw",
        "outputId": "3a5e2aee-1fc3-471e-f147-1f6ab454465a"
      },
      "source": [
        "!pip install ipython-autotime"
      ],
      "execution_count": null,
      "outputs": [
        {
          "output_type": "stream",
          "text": [
            "Collecting ipython-autotime\n",
            "  Downloading https://files.pythonhosted.org/packages/b4/c9/b413a24f759641bc27ef98c144b590023c8038dfb8a3f09e713e9dff12c1/ipython_autotime-0.3.1-py2.py3-none-any.whl\n",
            "Requirement already satisfied: ipython in /usr/local/lib/python3.7/dist-packages (from ipython-autotime) (5.5.0)\n",
            "Requirement already satisfied: simplegeneric>0.8 in /usr/local/lib/python3.7/dist-packages (from ipython->ipython-autotime) (0.8.1)\n",
            "Requirement already satisfied: pexpect; sys_platform != \"win32\" in /usr/local/lib/python3.7/dist-packages (from ipython->ipython-autotime) (4.8.0)\n",
            "Requirement already satisfied: decorator in /usr/local/lib/python3.7/dist-packages (from ipython->ipython-autotime) (4.4.2)\n",
            "Requirement already satisfied: traitlets>=4.2 in /usr/local/lib/python3.7/dist-packages (from ipython->ipython-autotime) (5.0.5)\n",
            "Requirement already satisfied: setuptools>=18.5 in /usr/local/lib/python3.7/dist-packages (from ipython->ipython-autotime) (54.2.0)\n",
            "Requirement already satisfied: pickleshare in /usr/local/lib/python3.7/dist-packages (from ipython->ipython-autotime) (0.7.5)\n",
            "Requirement already satisfied: pygments in /usr/local/lib/python3.7/dist-packages (from ipython->ipython-autotime) (2.6.1)\n",
            "Requirement already satisfied: prompt-toolkit<2.0.0,>=1.0.4 in /usr/local/lib/python3.7/dist-packages (from ipython->ipython-autotime) (1.0.18)\n",
            "Requirement already satisfied: ptyprocess>=0.5 in /usr/local/lib/python3.7/dist-packages (from pexpect; sys_platform != \"win32\"->ipython->ipython-autotime) (0.7.0)\n",
            "Requirement already satisfied: ipython-genutils in /usr/local/lib/python3.7/dist-packages (from traitlets>=4.2->ipython->ipython-autotime) (0.2.0)\n",
            "Requirement already satisfied: wcwidth in /usr/local/lib/python3.7/dist-packages (from prompt-toolkit<2.0.0,>=1.0.4->ipython->ipython-autotime) (0.2.5)\n",
            "Requirement already satisfied: six>=1.9.0 in /usr/local/lib/python3.7/dist-packages (from prompt-toolkit<2.0.0,>=1.0.4->ipython->ipython-autotime) (1.15.0)\n",
            "Installing collected packages: ipython-autotime\n",
            "Successfully installed ipython-autotime-0.3.1\n"
          ],
          "name": "stdout"
        }
      ]
    },
    {
      "cell_type": "code",
      "metadata": {
        "colab": {
          "base_uri": "https://localhost:8080/"
        },
        "id": "d-g-f6gSVzRj",
        "outputId": "422cdcd8-ff81-4931-bf03-7ad905c1c05c"
      },
      "source": [
        "%load_ext autotime"
      ],
      "execution_count": null,
      "outputs": [
        {
          "output_type": "stream",
          "text": [
            "time: 96.9 µs (started: 2021-04-04 14:44:40 +00:00)\n"
          ],
          "name": "stdout"
        }
      ]
    },
    {
      "cell_type": "code",
      "metadata": {
        "colab": {
          "base_uri": "https://localhost:8080/"
        },
        "id": "FtESSxWCVzou",
        "outputId": "23b55c25-2e84-4f11-ed75-64588b9786e5"
      },
      "source": [
        "!nvidia-smi"
      ],
      "execution_count": null,
      "outputs": [
        {
          "output_type": "stream",
          "text": [
            "Sun Apr  4 14:44:40 2021       \n",
            "+-----------------------------------------------------------------------------+\n",
            "| NVIDIA-SMI 460.67       Driver Version: 460.32.03    CUDA Version: 11.2     |\n",
            "|-------------------------------+----------------------+----------------------+\n",
            "| GPU  Name        Persistence-M| Bus-Id        Disp.A | Volatile Uncorr. ECC |\n",
            "| Fan  Temp  Perf  Pwr:Usage/Cap|         Memory-Usage | GPU-Util  Compute M. |\n",
            "|                               |                      |               MIG M. |\n",
            "|===============================+======================+======================|\n",
            "|   0  Tesla T4            Off  | 00000000:00:04.0 Off |                    0 |\n",
            "| N/A   54C    P8    10W /  70W |      0MiB / 15109MiB |      0%      Default |\n",
            "|                               |                      |                  N/A |\n",
            "+-------------------------------+----------------------+----------------------+\n",
            "                                                                               \n",
            "+-----------------------------------------------------------------------------+\n",
            "| Processes:                                                                  |\n",
            "|  GPU   GI   CI        PID   Type   Process name                  GPU Memory |\n",
            "|        ID   ID                                                   Usage      |\n",
            "|=============================================================================|\n",
            "|  No running processes found                                                 |\n",
            "+-----------------------------------------------------------------------------+\n",
            "time: 120 ms (started: 2021-04-04 14:44:40 +00:00)\n"
          ],
          "name": "stdout"
        }
      ]
    },
    {
      "cell_type": "code",
      "metadata": {
        "colab": {
          "base_uri": "https://localhost:8080/"
        },
        "id": "nTrMC8h0V1d9",
        "outputId": "4ed991ae-11b1-40d4-c140-3798b790a95b"
      },
      "source": [
        "!mkdir -p \"/kaggle/input/\"\n",
        "!cp \"/content/drive/MyDrive/kaggle-shopee/shopee-product-matching.zip\" \"/kaggle/input/\""
      ],
      "execution_count": null,
      "outputs": [
        {
          "output_type": "stream",
          "text": [
            "time: 1min 2s (started: 2021-04-04 14:45:57 +00:00)\n"
          ],
          "name": "stdout"
        }
      ]
    },
    {
      "cell_type": "code",
      "metadata": {
        "id": "XjT2CA-vWFHu"
      },
      "source": [
        "!unzip \"/kaggle/input/shopee-product-matching.zip\" -d \"/kaggle/input/shopee-product-matching\"\n",
        "!rm -rf \"/kaggle/input/shopee-product-matching.zip"
      ],
      "execution_count": null,
      "outputs": []
    },
    {
      "cell_type": "code",
      "metadata": {
        "colab": {
          "base_uri": "https://localhost:8080/"
        },
        "id": "nSJMBQZ6ZmSc",
        "outputId": "25e4431d-1157-4f84-b937-707623d635e2"
      },
      "source": [
        "import gc\n",
        "import glob\n",
        "import os\n",
        "\n",
        "import numpy as np\n",
        "import pandas as pd\n",
        "import PIL\n",
        "import tensorflow as tf\n",
        "from PIL import Image\n",
        "from sklearn.model_selection import StratifiedKFold\n",
        "from sklearn.preprocessing import LabelEncoder\n",
        "\n",
        "print(f\"Numpy version : {np.__version__}\")\n",
        "print(f\"Pandas version : {pd.__version__}\")\n",
        "print(f\"Tensorflow version : {tf.__version__}\")\n",
        "print(f\"Pillow version : {PIL.__version__}\")\n"
      ],
      "execution_count": null,
      "outputs": [
        {
          "output_type": "stream",
          "text": [
            "Numpy version : 1.19.5\n",
            "Pandas version : 1.1.5\n",
            "Tensorflow version : 2.4.1\n",
            "Pillow version : 7.1.2\n",
            "time: 578 ms (started: 2021-04-04 15:27:09 +00:00)\n"
          ],
          "name": "stdout"
        }
      ]
    },
    {
      "cell_type": "code",
      "metadata": {
        "colab": {
          "base_uri": "https://localhost:8080/"
        },
        "id": "dQUqOjxrWXAn",
        "outputId": "a2db6a4b-801e-47ce-cf43-82df7e052b8d"
      },
      "source": [
        "\n",
        "def _bytes_feature(value):\n",
        "    \"\"\"Returns a bytes_list from a string / byte.\"\"\"\n",
        "    if isinstance(value, type(tf.constant(0))):\n",
        "        value = value.numpy()  # BytesList won't unpack a string from an EagerTensor.\n",
        "    return tf.train.Feature(bytes_list=tf.train.BytesList(value=[value]))\n",
        "\n",
        "\n",
        "def _float_feature(value):\n",
        "    \"\"\"Returns a float_list from a float / double.\"\"\"\n",
        "    return tf.train.Feature(float_list=tf.train.FloatList(value=[value]))\n",
        "\n",
        "\n",
        "def _list_float_feature(value):\n",
        "    \"\"\"Returns a float_list from a float / double.\"\"\"\n",
        "    return tf.train.Feature(float_list=tf.train.FloatList(value=value))\n",
        "\n",
        "\n",
        "def _int64_feature(value):\n",
        "    \"\"\"Returns an int64_list from a bool / enum / int / uint.\"\"\"\n",
        "    return tf.train.Feature(int64_list=tf.train.Int64List(value=[value]))\n",
        "\n",
        "\n",
        "def _list_int64_feature(value):\n",
        "    \"\"\"Returns an int64_list from a bool / enum / int / uint.\"\"\"\n",
        "    return tf.train.Feature(int64_list=tf.train.Int64List(value=value))\n"
      ],
      "execution_count": null,
      "outputs": [
        {
          "output_type": "stream",
          "text": [
            "time: 9.58 ms (started: 2021-04-04 15:27:12 +00:00)\n"
          ],
          "name": "stdout"
        }
      ]
    },
    {
      "cell_type": "code",
      "metadata": {
        "colab": {
          "base_uri": "https://localhost:8080/"
        },
        "id": "dvzC5xmgfl-V",
        "outputId": "ab76e7d9-acd0-45fa-b278-97020ef321a3"
      },
      "source": [
        "df_train = pd.read_csv(\"/kaggle/input/shopee-product-matching/train.csv\")\n",
        "df_train[\"enc_label_group\"] = LabelEncoder().fit_transform(df_train[\"label_group\"])"
      ],
      "execution_count": null,
      "outputs": [
        {
          "output_type": "stream",
          "text": [
            "time: 104 ms (started: 2021-04-04 15:27:14 +00:00)\n"
          ],
          "name": "stdout"
        }
      ]
    },
    {
      "cell_type": "code",
      "metadata": {
        "colab": {
          "base_uri": "https://localhost:8080/"
        },
        "id": "YyZ0VrPhcCZ1",
        "outputId": "afa31d95-4a0c-4fe4-8d2f-258c78a06a5e"
      },
      "source": [
        "\n",
        "RESIZE_WIDTH = 512\n",
        "RESIZE_HEIGHT = 512\n",
        "\n",
        "TFRECORD_MAX_SIZE = 80 * 1024 * 1024 # 80 MB\n",
        "\n",
        "TOTAL_IMAGES = len(df_train.index)\n",
        "# TOTAL_IMAGES = len(df_test.index)\n",
        "\n",
        "# part 1 : 0:TOTAL_IMAGES // 2 (train) [CURRENT]\n",
        "# part 2 : TOTAL_IMAGES // 2:TOTAL_IMAGES (train)\n",
        "# part 3 : 0:TOTAL_IMAGES (test)\n",
        "START_INDEX = 0\n",
        "END_INDEX = TOTAL_IMAGES // 2\n",
        "\n",
        "BATCH_IMAGE = 1024\n",
        "\n",
        "SEED = 42"
      ],
      "execution_count": null,
      "outputs": [
        {
          "output_type": "stream",
          "text": [
            "time: 3.96 ms (started: 2021-04-04 15:32:13 +00:00)\n"
          ],
          "name": "stdout"
        }
      ]
    },
    {
      "cell_type": "code",
      "metadata": {
        "id": "dV0BH65FcEAd",
        "colab": {
          "base_uri": "https://localhost:8080/"
        },
        "outputId": "0817c1da-e834-49a7-83b4-30086a163983"
      },
      "source": [
        "def create_tfrecord(fold, df, dir=\"shopee-skf-tf-records\"):\n",
        "    fold = str(fold).zfill(2)\n",
        "    if not os.path.exists(dir):\n",
        "        os.makedirs(dir)\n",
        "    curr_file = f\"{dir}/train-skf-fold{fold}-{len(df)}.tfrec\"\n",
        "    print(f\"Writing to {curr_file}\")\n",
        "    writer = tf.io.TFRecordWriter(curr_file)\n",
        "    for _, row in df.iterrows():\n",
        "        image = f\"/kaggle/input/shopee-product-matching/train_images/{row['image']}\"\n",
        "        img = open(image, \"rb\")\n",
        "        img_read = img.read()\n",
        "        image_decoded = tf.image.decode_jpeg(img_read, channels=3)\n",
        "        resized_img = tf.image.resize_with_pad(\n",
        "            image_decoded,\n",
        "            target_width=RESIZE_WIDTH,\n",
        "            target_height=RESIZE_HEIGHT,\n",
        "            method=tf.image.ResizeMethod.BILINEAR,\n",
        "        )\n",
        "        resized_img = tf.cast(resized_img, tf.uint8)\n",
        "        resized_img = tf.io.encode_jpeg(resized_img)\n",
        "\n",
        "        feature = {\n",
        "            \"posting_id\": _bytes_feature(tf.compat.as_bytes(row[\"posting_id\"])),\n",
        "            \"image\": _bytes_feature(resized_img),\n",
        "            \"image_phash\": _bytes_feature(tf.compat.as_bytes(row[\"image_phash\"])),\n",
        "            \"title\": _bytes_feature(tf.compat.as_bytes(row[\"title\"])),\n",
        "            \"label_group\": _int64_feature(row[\"label_group\"]),\n",
        "            \"enc_label_group\": _int64_feature(row[\"enc_label_group\"]),\n",
        "        }\n",
        "        example = tf.train.Example(features=tf.train.Features(feature=feature))\n",
        "        writer.write(example.SerializeToString())\n",
        "    writer.close()\n"
      ],
      "execution_count": null,
      "outputs": [
        {
          "output_type": "stream",
          "text": [
            "time: 20.6 ms (started: 2021-04-04 15:43:15 +00:00)\n"
          ],
          "name": "stdout"
        }
      ]
    },
    {
      "cell_type": "code",
      "metadata": {
        "colab": {
          "base_uri": "https://localhost:8080/"
        },
        "id": "UAjdsWpIf2aJ",
        "outputId": "4f0660c5-5e43-491a-adfc-550d4b8dbad0"
      },
      "source": [
        "skf = StratifiedKFold(n_splits=12, random_state=SEED, shuffle=True)\n",
        "for fold, (_, idx) in enumerate(skf.split(df_train, df_train[\"enc_label_group\"])):\n",
        "    create_tfrecord(fold, df_train.iloc[idx, :])\n",
        "    "
      ],
      "execution_count": null,
      "outputs": [
        {
          "output_type": "stream",
          "text": [
            "/usr/local/lib/python3.7/dist-packages/sklearn/model_selection/_split.py:667: UserWarning: The least populated class in y has only 2 members, which is less than n_splits=12.\n",
            "  % (min_groups, self.n_splits)), UserWarning)\n"
          ],
          "name": "stderr"
        },
        {
          "output_type": "stream",
          "text": [
            "Writing to shopee-skf-tf-records/train-skf-fold00-2855.tfrec\n",
            "Writing to shopee-skf-tf-records/train-skf-fold01-2855.tfrec\n",
            "Writing to shopee-skf-tf-records/train-skf-fold02-2854.tfrec\n",
            "Writing to shopee-skf-tf-records/train-skf-fold03-2854.tfrec\n",
            "Writing to shopee-skf-tf-records/train-skf-fold04-2854.tfrec\n",
            "Writing to shopee-skf-tf-records/train-skf-fold05-2854.tfrec\n"
          ],
          "name": "stdout"
        }
      ]
    },
    {
      "cell_type": "code",
      "metadata": {
        "id": "6pVri6mzhJdc"
      },
      "source": [
        ""
      ],
      "execution_count": null,
      "outputs": []
    }
  ]
}